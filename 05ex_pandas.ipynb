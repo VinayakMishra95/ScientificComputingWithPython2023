{
 "cells": [
  {
   "cell_type": "markdown",
   "metadata": {},
   "source": [
    "1\\. **Pandas DataFrame**\n",
    "\n",
    "This exercise consists in analyzing a dataset containg timing information from a series of Time-to-Digital-Converters (TDC) implemented in a pair of FPGAs. Each measurement (i.e. each row of the input file) consists of a flag that specifies the type of message ('HEAD', which in this case is always 1), two addresses of the TDC providing the signal ('FPGA' and 'TDC_CHANNEL'), and the timing information ('ORBIT_CNT', 'BX_COUNTER', and 'TDC_MEAS'). Each TDC count corresponds to 25/30 ns, whereas a unit of BX_COUNTER corresponds to 25 ns, and the ORBIT_CNT is increased every `x` BX_COUNTER. This allows to store the time in a similar way to hours, minutes and seconds."
   ]
  },
  {
   "cell_type": "code",
   "execution_count": 22,
   "metadata": {},
   "outputs": [],
   "source": [
    "# If haven't downloaded it yet, please get the data file with wget\n",
    "#!wget https://www.dropbox.com/s/xvjzaxzz3ysphme/data_000637.txt -P ./data/"
   ]
  },
  {
   "cell_type": "markdown",
   "metadata": {},
   "source": [
    "1\\. Create a Pandas DataFrame reading N rows of the `data/data_000637.txt` dataset. Choose N to be smaller than or equal to the maximum number of rows and larger that 10k (check the documentation)."
   ]
  },
  {
   "cell_type": "code",
   "execution_count": 23,
   "metadata": {},
   "outputs": [
    {
     "name": "stdout",
     "output_type": "stream",
     "text": [
      "  HEAD,FPGA,TDC_CHANNEL,ORBIT_CNT,BX_COUNTER,TDC_MEAS\n",
      "0                         1,0,123,3869200167,2374,26 \n",
      "1                         1,0,124,3869200167,2374,27 \n",
      "2                          1,0,63,3869200167,2553,28 \n",
      "3                          1,0,64,3869200167,2558,19 \n",
      "4                          1,0,64,3869200167,2760,25 \n"
     ]
    }
   ],
   "source": [
    "import pandas as pd\n",
    "\n",
    "# Specify the file path to the dataset\n",
    "file_path = 'data/data_000637.txt'\n",
    "\n",
    "# Read the first 15,000 rows from the dataset (you can adjust the value of N as needed)\n",
    "N = 15000\n",
    "df = pd.read_csv(file_path, nrows=N, sep='\\s+')\n",
    "\n",
    "# Display the first few rows of the DataFrame\n",
    "print(df.head())"
   ]
  },
  {
   "cell_type": "markdown",
   "metadata": {},
   "source": [
    "2\\. Estimate the number of BX in a ORBIT (the value `x`).\n",
    "\n",
    "*Hint*: check when the BX counter reaches the maximum value before being reset to 0."
   ]
  },
  {
   "cell_type": "code",
   "execution_count": 24,
   "metadata": {},
   "outputs": [
    {
     "name": "stdout",
     "output_type": "stream",
     "text": [
      "Estimated value of x (number of BX in an ORBIT): 2\n"
     ]
    }
   ],
   "source": [
    "# Split the combined string into separate columns\n",
    "df[['HEAD', 'FPGA', 'TDC_CHANNEL', 'ORBIT_CNT', 'BX_COUNTER', 'TDC_MEAS']] = df['HEAD,FPGA,TDC_CHANNEL,ORBIT_CNT,BX_COUNTER,TDC_MEAS'].str.split(',', expand=True)\n",
    "\n",
    "# Convert columns to numeric (assuming they are not already)\n",
    "df = df.apply(pd.to_numeric, errors='ignore')\n",
    "\n",
    "# Identify rows where 'BX_COUNTER' reaches its maximum value before being reset to 0\n",
    "max_bx_values = df[df['HEAD'] == 1].groupby('ORBIT_CNT')['BX_COUNTER'].max()\n",
    "\n",
    "# Calculate the difference between consecutive maximum values\n",
    "bx_reset_diff = max_bx_values.diff()\n",
    "\n",
    "# Drop the first row containing NaN, as there is no previous value for the first maximum\n",
    "bx_reset_diff = bx_reset_diff.dropna()\n",
    "\n",
    "# x is the mean of the differences\n",
    "x_estimate = int(bx_reset_diff.mean())\n",
    "\n",
    "# Print the estimate of the number of BX in an ORBIT\n",
    "print(\"Estimated value of x (number of BX in an ORBIT):\", x_estimate)\n"
   ]
  },
  {
   "cell_type": "markdown",
   "metadata": {},
   "source": [
    "3\\. Create a new column with the absolute time in ns (as a combination of the other three columns with timing information) since the beginning of the data acquisition, and convert the new column to a Time Series.\n",
    "\n",
    "*Hint:* introduce an offset to the absolute time such that the start of the data acquisition (i.e. the first entry) is zero."
   ]
  },
  {
   "cell_type": "code",
   "execution_count": 25,
   "metadata": {},
   "outputs": [
    {
     "name": "stdout",
     "output_type": "stream",
     "text": [
      "   absolute_time_ns                 absolute_time\n",
      "0      7.654568e+12 1970-01-01 02:07:34.567663735\n",
      "1      7.654568e+12 1970-01-01 02:07:34.567663736\n",
      "2      8.231723e+12 1970-01-01 02:17:11.723355315\n",
      "3      8.247845e+12 1970-01-01 02:17:27.845022670\n",
      "4      8.899160e+12 1970-01-01 02:28:19.160384120\n"
     ]
    }
   ],
   "source": [
    "# Split the combined string into separate columns\n",
    "df[['HEAD', 'FPGA', 'TDC_CHANNEL', 'ORBIT_CNT', 'BX_COUNTER', 'TDC_MEAS']] = df['HEAD,FPGA,TDC_CHANNEL,ORBIT_CNT,BX_COUNTER,TDC_MEAS'].str.split(',', expand=True)\n",
    "\n",
    "# Convert columns to numeric (assuming they are not already)\n",
    "df = df.apply(pd.to_numeric, errors='ignore')\n",
    "\n",
    "# Create a new column with absolute time in ns\n",
    "df['absolute_time_ns'] = (\n",
    "    (df['ORBIT_CNT'] * df['BX_COUNTER'] + df['TDC_MEAS']) * 25 / 30 +\n",
    "    df['FPGA'] * 1e9  # Convert seconds to nanoseconds\n",
    ")\n",
    "\n",
    "# Introduce an offset to make the start of data acquisition (first entry) zero\n",
    "offset = df['absolute_time_ns'].min()\n",
    "df['absolute_time_ns'] -= offset\n",
    "\n",
    "# Convert the new column to a Time Series\n",
    "df['absolute_time'] = pd.to_datetime(df['absolute_time_ns'], unit='ns')\n",
    "\n",
    "# Print the DataFrame with the new columns\n",
    "print(df[['absolute_time_ns', 'absolute_time']].head())\n"
   ]
  },
  {
   "cell_type": "markdown",
   "metadata": {},
   "source": [
    "4\\. Find out the duration of the data taking in hours, minutes and seconds, by using the features of the Time Series. Perform this check reading the whole dataset."
   ]
  },
  {
   "cell_type": "code",
   "execution_count": 26,
   "metadata": {},
   "outputs": [
    {
     "name": "stdout",
     "output_type": "stream",
     "text": [
      "Duration of data taking: 3 hours, 11 minutes, 29.30 seconds\n"
     ]
    }
   ],
   "source": [
    "# Split the combined string into separate columns\n",
    "df[['HEAD', 'FPGA', 'TDC_CHANNEL', 'ORBIT_CNT', 'BX_COUNTER', 'TDC_MEAS']] = df['HEAD,FPGA,TDC_CHANNEL,ORBIT_CNT,BX_COUNTER,TDC_MEAS'].str.split(',', expand=True)\n",
    "\n",
    "# Convert columns to numeric (assuming they are not already)\n",
    "df = df.apply(pd.to_numeric, errors='ignore')\n",
    "\n",
    "# Create a new column with absolute time in ns\n",
    "df['absolute_time_ns'] = (\n",
    "    (df['ORBIT_CNT'] * df['BX_COUNTER'] + df['TDC_MEAS']) * 25 / 30 +\n",
    "    df['FPGA'] * 1e9  # Convert seconds to nanoseconds\n",
    ")\n",
    "\n",
    "# Introduce an offset to make the start of data acquisition (first entry) zero\n",
    "offset = df['absolute_time_ns'].min()\n",
    "df['absolute_time_ns'] -= offset\n",
    "\n",
    "# Convert the new column to a Time Series\n",
    "df['absolute_time'] = pd.to_datetime(df['absolute_time_ns'], unit='ns')\n",
    "\n",
    "# Calculate the duration of the data taking\n",
    "duration_ns = df['absolute_time_ns'].max()\n",
    "duration_seconds = duration_ns / 1e9  # Convert nanoseconds to seconds\n",
    "\n",
    "# Convert the duration to hours, minutes, and seconds\n",
    "hours, remainder = divmod(duration_seconds, 3600)\n",
    "minutes, seconds = divmod(remainder, 60)\n",
    "\n",
    "# Print the duration\n",
    "print(f\"Duration of data taking: {int(hours)} hours, {int(minutes)} minutes, {seconds:.2f} seconds\")\n"
   ]
  },
  {
   "cell_type": "markdown",
   "metadata": {},
   "source": [
    "5\\. Use the `.groupby()` method to find out the noisy channels, i.e. the TDC channels with most counts (print to screen the top 3 and the corresponding counts)"
   ]
  },
  {
   "cell_type": "code",
   "execution_count": 27,
   "metadata": {},
   "outputs": [
    {
     "name": "stdout",
     "output_type": "stream",
     "text": [
      "Top 3 Noisy Channels:\n",
      "TDC_CHANNEL: 139, Count: 1268\n",
      "TDC_CHANNEL: 64, Count: 752\n",
      "TDC_CHANNEL: 63, Count: 749\n"
     ]
    }
   ],
   "source": [
    "# Split the combined string into separate columns\n",
    "df[['HEAD', 'FPGA', 'TDC_CHANNEL', 'ORBIT_CNT', 'BX_COUNTER', 'TDC_MEAS']] = df['HEAD,FPGA,TDC_CHANNEL,ORBIT_CNT,BX_COUNTER,TDC_MEAS'].str.split(',', expand=True)\n",
    "\n",
    "# Convert columns to numeric (assuming they are not already)\n",
    "df = df.apply(pd.to_numeric, errors='ignore')\n",
    "\n",
    "# Use groupby to find the counts of each TDC_CHANNEL\n",
    "channel_counts = df['TDC_CHANNEL'].value_counts()\n",
    "\n",
    "# Print the top 3 noisy channels and their corresponding counts\n",
    "print(\"Top 3 Noisy Channels:\")\n",
    "for channel, count in channel_counts.head(3).items():\n",
    "    print(f\"TDC_CHANNEL: {channel}, Count: {count}\")\n"
   ]
  },
  {
   "cell_type": "markdown",
   "metadata": {},
   "source": [
    "6\\. Count the number of non-empty orbits (i.e. the number of orbits with at least one hit)."
   ]
  },
  {
   "cell_type": "code",
   "execution_count": 28,
   "metadata": {},
   "outputs": [
    {
     "name": "stdout",
     "output_type": "stream",
     "text": [
      "Number of non-empty orbits: 150\n"
     ]
    }
   ],
   "source": [
    "# Split the combined string into separate columns\n",
    "df[['HEAD', 'FPGA', 'TDC_CHANNEL', 'ORBIT_CNT', 'BX_COUNTER', 'TDC_MEAS']] = df['HEAD,FPGA,TDC_CHANNEL,ORBIT_CNT,BX_COUNTER,TDC_MEAS'].str.split(',', expand=True)\n",
    "\n",
    "# Convert columns to numeric (assuming they are not already)\n",
    "df = df.apply(pd.to_numeric, errors='ignore')\n",
    "\n",
    "# Count the number of non-empty orbits (orbits with at least one hit)\n",
    "non_empty_orbits = df['ORBIT_CNT'].nunique()\n",
    "\n",
    "# Print the result\n",
    "print(f\"Number of non-empty orbits: {non_empty_orbits}\")\n"
   ]
  },
  {
   "cell_type": "markdown",
   "metadata": {},
   "source": [
    "7\\. Count the number of unique orbits with at least one measurement from TDC_CHANNEL=139."
   ]
  },
  {
   "cell_type": "code",
   "execution_count": 29,
   "metadata": {},
   "outputs": [
    {
     "name": "stdout",
     "output_type": "stream",
     "text": [
      "Number of unique orbits with at least one measurement from TDC_CHANNEL=139: 150\n"
     ]
    }
   ],
   "source": [
    "# Split the combined string into separate columns\n",
    "df[['HEAD', 'FPGA', 'TDC_CHANNEL', 'ORBIT_CNT', 'BX_COUNTER', 'TDC_MEAS']] = df['HEAD,FPGA,TDC_CHANNEL,ORBIT_CNT,BX_COUNTER,TDC_MEAS'].str.split(',', expand=True)\n",
    "\n",
    "# Convert columns to numeric (assuming they are not already)\n",
    "df = df.apply(pd.to_numeric, errors='ignore')\n",
    "\n",
    "# Filter rows where TDC_CHANNEL is 139\n",
    "df_channel_139 = df[df['TDC_CHANNEL'] == 139]\n",
    "\n",
    "# Count the number of unique orbits with at least one measurement from TDC_CHANNEL=139\n",
    "unique_orbits_channel_139 = df_channel_139['ORBIT_CNT'].nunique()\n",
    "\n",
    "# Print the result\n",
    "print(f\"Number of unique orbits with at least one measurement from TDC_CHANNEL=139: {unique_orbits_channel_139}\")\n"
   ]
  },
  {
   "cell_type": "markdown",
   "metadata": {},
   "source": [
    "8\\. Create two Series (one for each FPGA) that have the TDC channel as index, and the number of counts for the corresponding TDC channel as values."
   ]
  },
  {
   "cell_type": "code",
   "execution_count": 30,
   "metadata": {},
   "outputs": [
    {
     "name": "stdout",
     "output_type": "stream",
     "text": [
      "Counts for FPGA 0:\n",
      "TDC_CHANNEL\n",
      "1        8\n",
      "2       16\n",
      "3       16\n",
      "4       19\n",
      "5       19\n",
      "      ... \n",
      "121     63\n",
      "122     71\n",
      "123    202\n",
      "124    193\n",
      "139    879\n",
      "Length: 117, dtype: int64\n",
      "\n",
      "Counts for FPGA 1:\n",
      "TDC_CHANNEL\n",
      "1      338\n",
      "2      363\n",
      "3      277\n",
      "4      290\n",
      "5      189\n",
      "      ... \n",
      "125      6\n",
      "126      7\n",
      "127     16\n",
      "128     18\n",
      "139    389\n",
      "Length: 124, dtype: int64\n"
     ]
    }
   ],
   "source": [
    "# Split the combined string into separate columns\n",
    "df[['HEAD', 'FPGA', 'TDC_CHANNEL', 'ORBIT_CNT', 'BX_COUNTER', 'TDC_MEAS']] = df['HEAD,FPGA,TDC_CHANNEL,ORBIT_CNT,BX_COUNTER,TDC_MEAS'].str.split(',', expand=True)\n",
    "\n",
    "# Convert columns to numeric (assuming they are not already)\n",
    "df = df.apply(pd.to_numeric, errors='ignore')\n",
    "\n",
    "# Group by FPGA and TDC_CHANNEL and count the occurrences\n",
    "channel_counts_by_fpga = df.groupby(['FPGA', 'TDC_CHANNEL']).size()\n",
    "\n",
    "# Separate the counts for FPGA 0 and FPGA 1 into two Series\n",
    "counts_fpga_0 = channel_counts_by_fpga.loc[0]\n",
    "counts_fpga_1 = channel_counts_by_fpga.loc[1]\n",
    "\n",
    "# Print the Series\n",
    "print(\"Counts for FPGA 0:\")\n",
    "print(counts_fpga_0)\n",
    "\n",
    "print(\"\\nCounts for FPGA 1:\")\n",
    "print(counts_fpga_1)\n"
   ]
  },
  {
   "cell_type": "markdown",
   "metadata": {},
   "source": [
    "9\\. **Optional:** Create two histograms (one for each FPGA) that show the number of counts for each TDC channel."
   ]
  },
  {
   "cell_type": "code",
   "execution_count": 31,
   "metadata": {},
   "outputs": [
    {
     "data": {
      "image/png": "[encoded data removed]",
      "text/plain": [
       "<Figure size 1200x600 with 2 Axes>"
      ]
     },
     "metadata": {},
     "output_type": "display_data"
    }
   ],
   "source": [
    "\n",
    "import matplotlib.pyplot as plt\n",
    "\n",
    "\n",
    "# Split the combined string into separate columns\n",
    "df[['HEAD', 'FPGA', 'TDC_CHANNEL', 'ORBIT_CNT', 'BX_COUNTER', 'TDC_MEAS']] = df['HEAD,FPGA,TDC_CHANNEL,ORBIT_CNT,BX_COUNTER,TDC_MEAS'].str.split(',', expand=True)\n",
    "\n",
    "# Convert columns to numeric (assuming they are not already)\n",
    "df = df.apply(pd.to_numeric, errors='ignore')\n",
    "\n",
    "# Group by FPGA and TDC_CHANNEL and count the occurrences\n",
    "channel_counts_by_fpga = df.groupby(['FPGA', 'TDC_CHANNEL']).size()\n",
    "\n",
    "# Separate the counts for FPGA 0 and FPGA 1 into two DataFrames\n",
    "counts_fpga_0 = channel_counts_by_fpga.loc[0].reset_index(name='Counts')\n",
    "counts_fpga_1 = channel_counts_by_fpga.loc[1].reset_index(name='Counts')\n",
    "\n",
    "# Plot histograms\n",
    "plt.figure(figsize=(12, 6))\n",
    "\n",
    "plt.subplot(1, 2, 1)\n",
    "plt.hist(counts_fpga_0['Counts'], bins=30, color='blue', alpha=0.7)\n",
    "plt.title('Histogram for FPGA 0')\n",
    "plt.xlabel('Number of Counts')\n",
    "plt.ylabel('Frequency')\n",
    "\n",
    "plt.subplot(1, 2, 2)\n",
    "plt.hist(counts_fpga_1['Counts'], bins=30, color='green', alpha=0.7)\n",
    "plt.title('Histogram for FPGA 1')\n",
    "plt.xlabel('Number of Counts')\n",
    "plt.ylabel('Frequency')\n",
    "\n",
    "plt.tight_layout()\n",
    "plt.show()\n"
   ]
  },
  {
   "cell_type": "code",
   "execution_count": null,
   "metadata": {},
   "outputs": [],
   "source": []
  }
 ],
 "metadata": {
  "kernelspec": {
   "display_name": "Python 3 (ipykernel)",
   "language": "python",
   "name": "python3"
  },
  "language_info": {
   "codemirror_mode": {
    "name": "ipython",
    "version": 3
   },
   "file_extension": ".py",
   "mimetype": "text/x-python",
   "name": "python",
   "nbconvert_exporter": "python",
   "pygments_lexer": "ipython3",
   "version": "3.10.12"
  }
 },
 "nbformat": 4,
 "nbformat_minor": 4
}
